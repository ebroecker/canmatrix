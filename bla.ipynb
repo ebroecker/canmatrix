{
 "cells": [
  {
   "cell_type": "code",
   "execution_count": 234,
   "metadata": {},
   "outputs": [
    {
     "data": {
      "text/plain": [
       "Signal(name='Sample_signal4', start_bit=49, size=8, is_little_endian=False, is_signed=True, offset=Decimal('0'), factor=Decimal('1'), unit='', receivers=[], comment=None, multiplex=None, mux_value=None, is_float=False, is_ascii=False, type_label='', enumeration=None, comments={}, attributes={}, values={}, mux_val_grp=[], muxer_for_signal=None, calc_min_for_none=True, calc_max_for_none=True, cycle_time=0, initial_value=Decimal('0'), min=Decimal('-128'), max=Decimal('127'))"
      ]
     },
     "execution_count": 234,
     "metadata": {},
     "output_type": "execute_result"
    }
   ],
   "source": [
    "import canmatrix\n",
    "import copy\n",
    "\n",
    "\n",
    "frame = canmatrix.Frame(\"my_frame\", size=8)\n",
    "\n",
    "frame.add_signal(canmatrix.Signal(name = \"Sample_signal\", start_bit = 2, size = 13, is_little_endian=False ))\n",
    "frame.add_signal(canmatrix.Signal(name = \"Sample_signal2\", start_bit = 17, size = 14, is_little_endian=False))\n",
    "frame.add_signal(canmatrix.Signal(name = \"Sample_signal3\", start_bit = 35, size = 6, is_little_endian=False))\n",
    "frame.add_signal(canmatrix.Signal(name = \"Sample_signal4\", start_bit = 49, size = 8, is_little_endian=False))\n"
   ]
  },
  {
   "cell_type": "code",
   "execution_count": 251,
   "metadata": {},
   "outputs": [],
   "source": [
    "frame = canmatrix.Frame(\"my_frame\", size=8)\n",
    "\n",
    "frame.add_signal(canmatrix.Signal(name = \"Sample_signal\", start_bit = 12, size = 12, is_little_endian=True))\n",
    "frame.add_signal(canmatrix.Signal(name = \"Sample_signal2\", start_bit = 17, size = 9, is_little_endian=True))\n",
    "frame.add_signal(canmatrix.Signal(name = \"Sample_signal3\", start_bit = 33, size = 5, is_little_endian=True))\n",
    "frame.add_signal(canmatrix.Signal(name = \"Sample_signal4\", start_bit = 48, size = 9, is_little_endian=True))\n",
    "\n",
    "cm = canmatrix.CanMatrix()\n",
    "cm.add_frame(frame)\n",
    "canmatrix.formats.dumpp({\"\":cm}, \"aa.dbc\")"
   ]
  },
  {
   "cell_type": "code",
   "execution_count": 246,
   "metadata": {},
   "outputs": [
    {
     "name": "stdout",
     "output_type": "stream",
     "text": [
      "\n",
      "........\n",
      "0000....\n",
      "00000000\n",
      "......11\n",
      "..22222.\n",
      "........\n",
      "33333333\n",
      ".......3"
     ]
    }
   ],
   "source": [
    "def simple_show_frame(frame):\n",
    "    layout = frame.get_frame_layout()\n",
    "    for bit_nr, signal_list in enumerate(layout):\n",
    "        if bit_nr % 8 == 0:\n",
    "            print(\"\")\n",
    "        if signal_list == []:           \n",
    "            print(\".\", end=\"\")\n",
    "        else:\n",
    "#            print(\"#\", end=\"\")\n",
    "            print(frame.signals.index(signal_list[0]), end=\"\")\n",
    "\n",
    "simple_show_frame(frame)\n",
    "#frame.signals[-1].start_bit\n",
    "#print(\"\\n\",frame.signals[-1].get_startbit(False))\n",
    "\n"
   ]
  },
  {
   "cell_type": "code",
   "execution_count": 247,
   "metadata": {},
   "outputs": [
    {
     "name": "stdout",
     "output_type": "stream",
     "text": [
      "\n",
      "........\n",
      "0000....\n",
      "00000000\n",
      "......11\n",
      "..22222.\n",
      "........\n",
      "33333333\n",
      ".......3"
     ]
    }
   ],
   "source": [
    "test_frame = copy.deepcopy(frame)\n",
    "#test_frame.signals.remove(test_frame.signals[1])\n",
    "simple_show_frame(test_frame)\n",
    "#test_frame.signals[1].get_startbit(False)\n"
   ]
  },
  {
   "cell_type": "code",
   "execution_count": 248,
   "metadata": {},
   "outputs": [
    {
     "name": "stdout",
     "output_type": "stream",
     "text": [
      "None\n",
      "\n",
      "--\n",
      "\n",
      "00000000\n",
      "11110000\n",
      "22211111\n",
      "33333322\n",
      ".....333\n",
      "........\n",
      "........\n",
      "........"
     ]
    },
    {
     "data": {
      "text/plain": [
       "[0, 12, 21, 26]"
      ]
     },
     "execution_count": 248,
     "metadata": {},
     "output_type": "execute_result"
    }
   ],
   "source": [
    "def compress(self, frame):\n",
    "    for signal in frame.signals:\n",
    "        if signal.is_little_endian:\n",
    "            return self._compress_little(frame)\n",
    "    gap_found = True\n",
    "    while gap_found:\n",
    "        gap_found = False\n",
    "        layout = frame.get_frame_layout()\n",
    "        free_start = None\n",
    "        for bit_nr, signal_list in enumerate(layout):\n",
    "            if signal_list == []:\n",
    "                if free_start is None:\n",
    "                    free_start = bit_nr\n",
    "            else:\n",
    "                if free_start is not None:\n",
    "                    signal = layout[bit_nr][0] \n",
    "                    signal.start_bit = free_start\n",
    "                    gap_found = True\n",
    "                    break\n",
    "\n",
    "def compress_little(frame):\n",
    "    for signal in frame.signals:\n",
    "        if not signal.is_little_endian:\n",
    "            return\n",
    "    gap_found = True\n",
    "    while gap_found:\n",
    "        gap_found = False\n",
    "        layout = frame.get_frame_layout()\n",
    "        gap_len = None\n",
    "        for byte in range(len(layout)//8):\n",
    "            for bit in range(7,-1,-1):\n",
    "                bit_nr = byte*8+bit\n",
    "                signal_list = layout[bit_nr]\n",
    "                if signal_list == []:\n",
    "                    if gap_len is None:\n",
    "                        gap_len = 1\n",
    "                    else:\n",
    "                        gap_len += 1\n",
    "                else:\n",
    "                    if gap_len is not None:\n",
    "                        signal = layout[bit_nr][0] \n",
    "                        signal.start_bit -= gap_len\n",
    "                        gap_found = True\n",
    "                        break\n",
    "            if gap_found:\n",
    "                break\n",
    "\n",
    "print(compress_little(test_frame))\n",
    "\n",
    "print(\"\\n--\")\n",
    "simple_show_frame(test_frame)\n",
    "[a.start_bit for a in test_frame.signals]"
   ]
  }
 ],
 "metadata": {
  "kernelspec": {
   "display_name": "Python 3",
   "language": "python",
   "name": "python3"
  },
  "language_info": {
   "codemirror_mode": {
    "name": "ipython",
    "version": 3
   },
   "file_extension": ".py",
   "mimetype": "text/x-python",
   "name": "python",
   "nbconvert_exporter": "python",
   "pygments_lexer": "ipython3",
   "version": "3.9.0"
  },
  "orig_nbformat": 4,
  "vscode": {
   "interpreter": {
    "hash": "11938c6bc6919ae2720b4d5011047913343b08a43b18698fd82dedb0d4417594"
   }
  }
 },
 "nbformat": 4,
 "nbformat_minor": 2
}
